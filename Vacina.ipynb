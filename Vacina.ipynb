{
  "cells": [
    {
      "cell_type": "markdown",
      "metadata": {
        "id": "view-in-github",
        "colab_type": "text"
      },
      "source": [
        "<a href=\"https://colab.research.google.com/github/reginaldogalli/dashvacinacao/blob/main/Vacina.ipynb\" target=\"_parent\"><img src=\"https://colab.research.google.com/assets/colab-badge.svg\" alt=\"Open In Colab\"/></a>"
      ]
    },
    {
      "cell_type": "code",
      "execution_count": null,
      "metadata": {
        "id": "ImhTpP-Jga9V"
      },
      "outputs": [],
      "source": [
        "# importa a biblioteca pandas como pd\n",
        "import pandas as pd"
      ]
    },
    {
      "cell_type": "code",
      "execution_count": null,
      "metadata": {
        "id": "ai8bfVKvhogy"
      },
      "outputs": [],
      "source": [
        "# importa a biblioteca matplotlyb como plt\n",
        "import matplotlib.pyplot as plt"
      ]
    },
    {
      "cell_type": "code",
      "execution_count": null,
      "metadata": {
        "colab": {
          "base_uri": "https://localhost:8080/"
        },
        "id": "OAAapitDgovu",
        "outputId": "84ab0f70-e357-458e-ea2d-9f133d000611"
      },
      "outputs": [
        {
          "output_type": "stream",
          "name": "stdout",
          "text": [
            "Drive already mounted at /content/drive; to attempt to forcibly remount, call drive.mount(\"/content/drive\", force_remount=True).\n"
          ]
        }
      ],
      "source": [
        "from google.colab import drive\n",
        "drive.mount('/content/drive')"
      ]
    },
    {
      "cell_type": "code",
      "execution_count": null,
      "metadata": {
        "id": "v5JayjOihBJO"
      },
      "outputs": [],
      "source": [
        "# baixa baixa um arquivo csv da internet direto para a pasta no google drive\n",
        "!wget -P '/content/drive/MyDrive/Colab Datasets/vacina_sp' https://s3.sa-east-1.amazonaws.com/ckan.saude.gov.br/SIPNI/COVID/uf/uf%3DSP/part-00000-b8f5fec1-909d-4f70-a59f-b9343347286e.c000.csv"
      ]
    },
    {
      "cell_type": "code",
      "execution_count": null,
      "metadata": {
        "id": "HPEo5NX7kuGm"
      },
      "outputs": [],
      "source": [
        "# baixa baixa um arquivo csv da internet direto para a pasta no google drive\n",
        "!wget -P '/content/drive/MyDrive/Colab Datasets/vacina_sp2' https://s3.sa-east-1.amazonaws.com/ckan.saude.gov.br/SIPNI/COVID/uf/uf%3DSP/part-00001-b8f5fec1-909d-4f70-a59f-b9343347286e.c000.csv"
      ]
    },
    {
      "cell_type": "code",
      "execution_count": null,
      "metadata": {
        "id": "PN0nU9mFoUTf"
      },
      "outputs": [],
      "source": [
        "# baixa baixa um arquivo csv da internet direto para a pasta no google drive\n",
        "!wget -P '/content/drive/MyDrive/Colab Datasets/vacina_sp3' https://s3.sa-east-1.amazonaws.com/ckan.saude.gov.br/SIPNI/COVID/uf/uf%3DSP/part-00002-b8f5fec1-909d-4f70-a59f-b9343347286e.c000.csv"
      ]
    },
    {
      "cell_type": "code",
      "execution_count": null,
      "metadata": {
        "id": "E3sxQ6dtyR8B"
      },
      "outputs": [],
      "source": [
        "# este código le o arquivo csv de lotes de 10000 linhas e vai salvando na lista temporária filtro_df. Ao final salva na variavel df\n",
        "filtro_df = []\n",
        "for chunk in pd.read_csv('/content/drive/MyDrive/Colab Datasets/vacina_sp/part-00000-b8f5fec1-909d-4f70-a59f-b9343347286e.c000.csv', sep=';',chunksize=10000):\n",
        "  temp_df = chunk.loc[chunk['estabelecimento_municipio_nome'] == 'ATIBAIA']\n",
        "  filtro_df.append(temp_df)\n",
        "for chunk in pd.read_csv('/content/drive/MyDrive/Colab Datasets/vacina_sp/part-00001-b8f5fec1-909d-4f70-a59f-b9343347286e.c000.csv', sep=';',chunksize=10000):\n",
        "  temp_df = chunk.loc[chunk['estabelecimento_municipio_nome'] == 'ATIBAIA']\n",
        "  filtro_df.append(temp_df)\n",
        "for chunk in pd.read_csv('/content/drive/MyDrive/Colab Datasets/vacina_sp/part-00002-b8f5fec1-909d-4f70-a59f-b9343347286e.c000.csv', sep=';',chunksize=10000):\n",
        "  temp_df = chunk.loc[chunk['estabelecimento_municipio_nome'] == 'ATIBAIA']\n",
        "  filtro_df.append(temp_df)\n",
        "df = pd.concat(filtro_df, ignore_index=True)"
      ]
    },
    {
      "cell_type": "code",
      "source": [
        "df = pd.read_csv('/content/drive/MyDrive/Colab Datasets/vacina_sp/vacina_atibaia.csv', sep=';', usecols = ['vacina_dataAplicacao', 'paciente_enumSexoBiologico', 'vacina_nome', 'estalecimento_noFantasia'])"
      ],
      "metadata": {
        "id": "WXm6GH8N_hg6"
      },
      "execution_count": null,
      "outputs": []
    },
    {
      "cell_type": "code",
      "source": [
        "# ordena as linhas por data de aplicacao \n",
        "df.sort_values('vacina_dataAplicacao', inplace=True)"
      ],
      "metadata": {
        "id": "dh4UD30TITTw"
      },
      "execution_count": null,
      "outputs": []
    },
    {
      "cell_type": "code",
      "source": [
        "# converte os dados da data de aplicacao para o tipo data\n",
        "df.vacina_dataAplicacao = pd.to_datetime(df.vacina_dataAplicacao)"
      ],
      "metadata": {
        "id": "tJ5GW6uELrM0"
      },
      "execution_count": null,
      "outputs": []
    },
    {
      "cell_type": "code",
      "source": [
        "# cria a coluna semana do ano em que foi aplicada a vacina\n",
        "df['vacina_semanaAplicacao'] = df.vacina_dataAplicacao.dt.isocalendar().week"
      ],
      "metadata": {
        "id": "gncq7cZbJF4z"
      },
      "execution_count": null,
      "outputs": []
    },
    {
      "cell_type": "code",
      "metadata": {
        "id": "N5Q_pkg0cu-4"
      },
      "source": [
        "# salvar os dados filtrados em um novo csv eliminando o indice original\n",
        "df.to_csv ('/content/drive/MyDrive/Colab Datasets/vacina_sp/vacina_atibaia1.csv', index = False, sep=';')"
      ],
      "execution_count": null,
      "outputs": []
    }
  ],
  "metadata": {
    "colab": {
      "provenance": [],
      "mount_file_id": "19JiAcpNkgrN0PBFM0vj3hihlvUYhsDlZ",
      "authorship_tag": "ABX9TyM2/SryswXm27KW4kAigeVB",
      "include_colab_link": true
    },
    "kernelspec": {
      "display_name": "Python 3",
      "name": "python3"
    },
    "language_info": {
      "name": "python"
    }
  },
  "nbformat": 4,
  "nbformat_minor": 0
}